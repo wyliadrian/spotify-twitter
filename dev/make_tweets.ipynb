{
 "cells": [
  {
   "cell_type": "code",
   "execution_count": null,
   "id": "151dc49d",
   "metadata": {},
   "outputs": [],
   "source": [
    "# !pip install google-cloud\n",
    "# !pip install google-cloud-vision\n",
    "# !pip install --upgrade google-cloud-storage"
   ]
  },
  {
   "cell_type": "code",
   "execution_count": null,
   "id": "fb665fbf",
   "metadata": {},
   "outputs": [],
   "source": [
    "# !pip install --upgrade 'google-cloud-bigquery[bqstorage,pandas]'"
   ]
  },
  {
   "cell_type": "code",
   "execution_count": 68,
   "id": "aa82a83e",
   "metadata": {},
   "outputs": [],
   "source": [
    "import os\n",
    "from datetime import datetime, timedelta\n",
    "from google.cloud import bigquery"
   ]
  },
  {
   "cell_type": "code",
   "execution_count": 49,
   "id": "333064c0",
   "metadata": {},
   "outputs": [],
   "source": [
    "access_key_path = \"/Users/weiyili/Desktop/Projects/spotify_twitter/airflow_twitter/key-file.json\""
   ]
  },
  {
   "cell_type": "code",
   "execution_count": 50,
   "id": "1eca16c3",
   "metadata": {},
   "outputs": [],
   "source": [
    "os.environ[\"GOOGLE_APPLICATION_CREDENTIALS\"] = access_key_path"
   ]
  },
  {
   "cell_type": "code",
   "execution_count": 116,
   "id": "de53fe22",
   "metadata": {},
   "outputs": [],
   "source": [
    "PROJECT_ID = \"graphic-segment-355021\"\n",
    "DATASET_ID = \"spotify_data\"\n",
    "TABLE_NAME_1 = \"albums\"\n",
    "TABLE_NAME_2 = \"tweets\"\n",
    "\n",
    "TABLE_ID_1 = f\"{PROJECT_ID}.{DATASET_ID}.{TABLE_NAME_1}\"\n",
    "TABLE_ID_2 = f\"{PROJECT_ID}.{DATASET_ID}.{TABLE_NAME_2}\""
   ]
  },
  {
   "cell_type": "code",
   "execution_count": 51,
   "id": "132a0330",
   "metadata": {},
   "outputs": [],
   "source": [
    "bqclient = bigquery.Client().from_service_account_json(access_key_path)"
   ]
  },
  {
   "cell_type": "code",
   "execution_count": 127,
   "id": "5fc9c4f3",
   "metadata": {},
   "outputs": [],
   "source": [
    "start_time = datetime.now()"
   ]
  },
  {
   "cell_type": "code",
   "execution_count": 128,
   "id": "3ebb7dc0",
   "metadata": {},
   "outputs": [],
   "source": [
    "time_diff = datetime.now() - start_time\n",
    "row_num = int((time_diff.total_seconds()/60/5)%15)"
   ]
  },
  {
   "cell_type": "code",
   "execution_count": 144,
   "id": "beb05368",
   "metadata": {},
   "outputs": [],
   "source": [
    "query_string = f\"\"\"\n",
    "SELECT text\n",
    "FROM {TABLE_ID_2}\n",
    "ORDER BY release_date DESC\n",
    "LIMIT 1\n",
    "\"\"\""
   ]
  },
  {
   "cell_type": "code",
   "execution_count": 130,
   "id": "82b99692",
   "metadata": {},
   "outputs": [],
   "source": [
    "df = (bqclient.query(query_string).result().to_dataframe(create_bqstorage_client=True))"
   ]
  },
  {
   "cell_type": "code",
   "execution_count": 132,
   "id": "fc1cb2af",
   "metadata": {},
   "outputs": [],
   "source": [
    "rd = df.loc[0, \"release_date\"]\n",
    "an = df.loc[0, \"album_name\"]\n",
    "au = df.loc[0, \"album_url\"]"
   ]
  },
  {
   "cell_type": "code",
   "execution_count": 133,
   "id": "a911102a",
   "metadata": {},
   "outputs": [],
   "source": [
    "tweet_post = f\"On {rd}, #MariahCarey released her album '{an}'. Check out on Spotify:{au}.\""
   ]
  },
  {
   "cell_type": "code",
   "execution_count": 134,
   "id": "4fa302dd",
   "metadata": {},
   "outputs": [
    {
     "data": {
      "text/plain": [
       "[]"
      ]
     },
     "execution_count": 134,
     "metadata": {},
     "output_type": "execute_result"
    }
   ],
   "source": [
    "row_to_insert = [{\"release_date\": rd, \"text\": tweet_post}]\n",
    "bqclient.insert_rows_json(TABLE_ID_2, row_to_insert)"
   ]
  },
  {
   "cell_type": "code",
   "execution_count": 146,
   "id": "239ac58d",
   "metadata": {},
   "outputs": [],
   "source": [
    "def make_tweet(start_time):\n",
    "    # Authentication to grant access to BigQuery tables\n",
    "    access_key_path = \"/Users/weiyili/Desktop/Projects/spotify_twitter/airflow_twitter/key-file.json\"\n",
    "    os.environ[\"GOOGLE_APPLICATION_CREDENTIALS\"] = access_key_path\n",
    "    \n",
    "    # Set necesary information\n",
    "    PROJECT_ID = \"graphic-segment-355021\"\n",
    "    DATASET_ID = \"spotify_data\"\n",
    "    TABLE_NAME_1 = \"albums\"\n",
    "    TABLE_NAME_2 = \"tweets\"\n",
    "\n",
    "    TABLE_ID_1 = f\"{PROJECT_ID}.{DATASET_ID}.{TABLE_NAME_1}\"\n",
    "    TABLE_ID_2 = f\"{PROJECT_ID}.{DATASET_ID}.{TABLE_NAME_2}\"   \n",
    "    \n",
    "    # Initialize the client object to interact with BigQuery\n",
    "    bqclient = bigquery.Client().from_service_account_json(access_key_path)\n",
    "    \n",
    "    # Determine which certain row to retrieve\n",
    "    time_diff = datetime.now() - start_time\n",
    "    row_num = int((time_diff.total_seconds()/60/5)%15)\n",
    "    \n",
    "    # SQL query\n",
    "    query_string = f\"\"\"\n",
    "    SELECT *\n",
    "    FROM {TABLE_ID_1}\n",
    "    ORDER BY release_date\n",
    "    LIMIT 1 OFFSET {row_num}\n",
    "    \"\"\"\n",
    "    \n",
    "    # Query job against BigQuery table and transform the results into a data frame\n",
    "    df = (bqclient.query(query_string).result().to_dataframe(create_bqstorage_client=True))\n",
    "    \n",
    "    # Obtain certain fields and prepare the rows to be inserted into the table\n",
    "    rd = df.loc[0, \"release_date\"]\n",
    "    an = df.loc[0, \"album_name\"]\n",
    "    au = df.loc[0, \"album_url\"]   \n",
    "    tweet_post = f\"On {rd}, #MariahCarey released her album '{an}'. Check out on Spotify:{au}.\"\n",
    "    row_to_insert = [{\"release_date\": rd, \"text\": tweet_post}]\n",
    "    \n",
    "    # Perform insertion\n",
    "    bqclient.insert_rows_json(TABLE_ID_2, row_to_insert)"
   ]
  },
  {
   "cell_type": "code",
   "execution_count": 147,
   "id": "f77958a0",
   "metadata": {},
   "outputs": [],
   "source": [
    "make_tweet(start_time)"
   ]
  },
  {
   "cell_type": "code",
   "execution_count": null,
   "id": "36d32c95",
   "metadata": {},
   "outputs": [],
   "source": []
  }
 ],
 "metadata": {
  "kernelspec": {
   "display_name": "Python 3 (ipykernel)",
   "language": "python",
   "name": "python3"
  },
  "language_info": {
   "codemirror_mode": {
    "name": "ipython",
    "version": 3
   },
   "file_extension": ".py",
   "mimetype": "text/x-python",
   "name": "python",
   "nbconvert_exporter": "python",
   "pygments_lexer": "ipython3",
   "version": "3.9.7"
  }
 },
 "nbformat": 4,
 "nbformat_minor": 5
}
