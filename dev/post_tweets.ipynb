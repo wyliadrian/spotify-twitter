{
 "cells": [
  {
   "cell_type": "code",
   "execution_count": null,
   "id": "1f656f17",
   "metadata": {},
   "outputs": [],
   "source": [
    "# !pip install tweepy"
   ]
  },
  {
   "cell_type": "code",
   "execution_count": null,
   "id": "d2b94816",
   "metadata": {
    "scrolled": true
   },
   "outputs": [],
   "source": [
    "import os\n",
    "from datetime import datetime, timedelta\n",
    "\n",
    "from google.cloud import bigquery\n",
    "import tweepy"
   ]
  },
  {
   "cell_type": "code",
   "execution_count": null,
   "id": "b29eb58e",
   "metadata": {},
   "outputs": [],
   "source": [
    "def get_tweet():\n",
    "    \n",
    "    access_key_path = \"/Users/weiyili/Desktop/Projects/spotify_twitter/airflow_twitter/key-file.json\"\n",
    "    os.environ[\"GOOGLE_APPLICATION_CREDENTIALS\"] = access_key_path\n",
    "    \n",
    "    PROJECT_ID = \"graphic-segment-355021\"\n",
    "    DATASET_ID = \"spotify_data\"\n",
    "    TABLE_NAME = \"tweets\"  \n",
    "    TABLE_ID = f\"{PROJECT_ID}.{DATASET_ID}.{TABLE_NAME}\"\n",
    "    \n",
    "    bqclient = bigquery.Client().from_service_account_json(access_key_path)\n",
    "    \n",
    "    query_string = f\"\"\"\n",
    "    SELECT text\n",
    "    FROM {TABLE_ID}\n",
    "    ORDER BY release_date DESC\n",
    "    LIMIT 1\n",
    "    \"\"\"\n",
    "    \n",
    "    df = bqclient.query(query_string).result().to_dataframe()\n",
    "    tweet = df.loc[0, \"text\"]\n",
    "    \n",
    "    return tweet"
   ]
  },
  {
   "cell_type": "code",
   "execution_count": null,
   "id": "e8d8938d",
   "metadata": {},
   "outputs": [],
   "source": [
    "def post_tweet():\n",
    "    \n",
    "    tweet = get_tweet()\n",
    "    \n",
    "    BEARER_TOKEN = \"******\"\n",
    "    CONSUMER_KEY = \"******\"\n",
    "    CONSUMER_SECRET = \"******\"\n",
    "    ACCESS_TOKEN = \"******\"\n",
    "    ACCESS_TOKEN_SECRET = \"******\"\n",
    "    \n",
    "    api = tweepy.Client(bearer_token=BEARER_TOKEN, \n",
    "                    access_token=ACCESS_TOKEN,\n",
    "                    access_token_secret=ACCESS_TOKEN_SECRET,\n",
    "                    consumer_key=CONSUMER_KEY,\n",
    "                    consumer_secret=CONSUMER_SECRET)\n",
    "    \n",
    "    new_status = api.create_tweet(text = tweet)"
   ]
  }
 ],
 "metadata": {
  "kernelspec": {
   "display_name": "Python 3 (ipykernel)",
   "language": "python",
   "name": "python3"
  },
  "language_info": {
   "codemirror_mode": {
    "name": "ipython",
    "version": 3
   },
   "file_extension": ".py",
   "mimetype": "text/x-python",
   "name": "python",
   "nbconvert_exporter": "python",
   "pygments_lexer": "ipython3",
   "version": "3.9.7"
  }
 },
 "nbformat": 4,
 "nbformat_minor": 5
}
