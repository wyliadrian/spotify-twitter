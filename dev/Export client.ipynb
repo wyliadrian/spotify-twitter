{
 "cells": [
  {
   "cell_type": "code",
   "execution_count": 2,
   "id": "ae6b5c16",
   "metadata": {},
   "outputs": [
    {
     "name": "stdout",
     "output_type": "stream",
     "text": [
      "[NbConvertApp] Converting notebook spotify_client.ipynb to python\n",
      "[NbConvertApp] Writing 3259 bytes to spotify_client.py\n"
     ]
    }
   ],
   "source": [
    "!jupyter nbconvert --output-dir='.' --to python spotify_client.ipynb"
   ]
  },
  {
   "cell_type": "code",
   "execution_count": 1,
   "id": "d56d774f",
   "metadata": {},
   "outputs": [
    {
     "name": "stdout",
     "output_type": "stream",
     "text": [
      "[NbConvertApp] Converting notebook post_tweets.ipynb to python\n",
      "[NbConvertApp] Writing 923 bytes to post_tweets.py\n"
     ]
    }
   ],
   "source": [
    "!jupyter nbconvert --output-dir='.' --to python post_tweets.ipynb"
   ]
  },
  {
   "cell_type": "code",
   "execution_count": 2,
   "id": "66db57f6",
   "metadata": {},
   "outputs": [
    {
     "name": "stdout",
     "output_type": "stream",
     "text": [
      "[NbConvertApp] Converting notebook post_tweets.ipynb to python\n",
      "[NbConvertApp] Writing 1697 bytes to post_tweets.py\n"
     ]
    }
   ],
   "source": [
    "!jupyter nbconvert --output-dir='.' --to python post_tweets.ipynb"
   ]
  }
 ],
 "metadata": {
  "kernelspec": {
   "display_name": "Python 3 (ipykernel)",
   "language": "python",
   "name": "python3"
  },
  "language_info": {
   "codemirror_mode": {
    "name": "ipython",
    "version": 3
   },
   "file_extension": ".py",
   "mimetype": "text/x-python",
   "name": "python",
   "nbconvert_exporter": "python",
   "pygments_lexer": "ipython3",
   "version": "3.9.7"
  }
 },
 "nbformat": 4,
 "nbformat_minor": 5
}
