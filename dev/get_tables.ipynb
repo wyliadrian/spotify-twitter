{
 "cells": [
  {
   "cell_type": "code",
   "execution_count": 5,
   "id": "20dba48f",
   "metadata": {},
   "outputs": [],
   "source": [
    "import sys\n",
    "sys.path.insert(0, '/Users/weiyili/Desktop/Projects/spotify-twitter/spotifyAPI/')\n",
    "\n",
    "import pandas as pd\n",
    "from spotify_client import *"
   ]
  },
  {
   "cell_type": "code",
   "execution_count": 6,
   "id": "18ae099c",
   "metadata": {},
   "outputs": [],
   "source": [
    "# Initialize client to interact with Spotify API\n",
    "client_id = \"bfd320eaa2cf4397bf9f4a23159fe35b\"\n",
    "client_secret = \"5a7bc7833a9341149a73849fd5a953ca\"\n",
    "\n",
    "spotify = SpotifyAPI(client_id, client_secret)"
   ]
  },
  {
   "cell_type": "code",
   "execution_count": 7,
   "id": "5ee800eb",
   "metadata": {},
   "outputs": [],
   "source": [
    "# Album ids\n",
    "album_ids = [\"5SwNGsGw1I8H361DKiYnnn\", \"0SHpIbyBLUugMXsl3yNkUz\", \"2NKxb7pk04CuZab5udkGUl\", \n",
    "             \"61ulfFSmmxMhc2wCdmdMkN\", \"1ibYM4abQtSVQFQWvDSo4J\", \"7aDBFWp72Pz4NZEtVBANi9\", \n",
    "             \"1iSTXHBhLc9ImaqyvVZGft\", \"2hHFZLYnwsYOOxTCrlNvg0\", \"16rTsMjlDt6DEbLRtxvcWu\", \n",
    "             \"7MMpjM0wynysTbhpvKjHrm\", \"31MluXLYC0ZnCSfUZ5T4GX\", \"3RPImDZ7Ihh5YR5iJh1gH1\", \n",
    "             \"4q88opkbXkvvL0iIvbs0pv\", \"47voGlgRLcSe9VVO4K4IQa\", \"6GhWU8SIWavH4IQAoeJazI\", \n",
    "             \"0v1DRRYBXYg1uVN1CIsyy0\"]"
   ]
  },
  {
   "cell_type": "code",
   "execution_count": 8,
   "id": "513a9063",
   "metadata": {},
   "outputs": [],
   "source": [
    "# Generate tracks table holding all tracks from album_ids\n",
    "tracks = []\n",
    "for album_id in album_ids:\n",
    "    album = spotify.get_resource(query=f\"albums/{album_id}\")\n",
    "    lst = []\n",
    "    for item in album[\"tracks\"][\"items\"]:\n",
    "        lst.append([item[\"id\"], item[\"name\"], item[\"external_urls\"][\"spotify\"], album_id])\n",
    "    album_tracks = pd.DataFrame(lst, columns = [\"track_id\", \"track_name\", \"track_url\", \"album_id\"])\n",
    "    tracks.append(album_tracks)\n",
    "tracks = pd.concat(tracks, ignore_index = True)"
   ]
  },
  {
   "cell_type": "code",
   "execution_count": 9,
   "id": "1ca5a9b2",
   "metadata": {},
   "outputs": [],
   "source": [
    "# Generate albums table holding albums information\n",
    "albums = []\n",
    "for album_id in album_ids:\n",
    "    album = spotify.get_resource(query=f\"albums/{album_id}\")\n",
    "    albums.append([album_id, album[\"name\"], album[\"artists\"][0][\"id\"], album[\"total_tracks\"], \n",
    "                   album[\"release_date\"], album[\"external_urls\"][\"spotify\"], album[\"images\"][0][\"url\"]])\n",
    "albums = pd.DataFrame(albums, columns = [\"album_id\", \"album_name\", \"artist_id\", \"total_tracks\", \n",
    "                                         \"release_date\", \"album_url\", \"album_image_url\"])"
   ]
  },
  {
   "cell_type": "code",
   "execution_count": 10,
   "id": "38515428",
   "metadata": {},
   "outputs": [],
   "source": [
    "# Generate artist table\n",
    "response = spotify.get_resource(query=f\"albums/{album_ids[0]}\")\n",
    "dic = {\n",
    "    \"artist_id\": [response[\"artists\"][0][\"id\"]],\n",
    "    \"artist_name\": [response[\"artists\"][0][\"name\"]],\n",
    "    \"artist_url\": [response[\"artists\"][0][\"external_urls\"][\"spotify\"]]\n",
    "}\n",
    "artists = pd.DataFrame(dic)"
   ]
  },
  {
   "cell_type": "code",
   "execution_count": 11,
   "id": "dff28223",
   "metadata": {},
   "outputs": [],
   "source": [
    "album = spotify.get_resource(query=f\"albums/{album_ids[0]}\")"
   ]
  },
  {
   "cell_type": "code",
   "execution_count": 12,
   "id": "4811f7ec",
   "metadata": {},
   "outputs": [
    {
     "data": {
      "text/plain": [
       "'https://i.scdn.co/image/ab67616d0000b2735084c69ed3f70e8fb139e1ea'"
      ]
     },
     "execution_count": 12,
     "metadata": {},
     "output_type": "execute_result"
    }
   ],
   "source": [
    "albums[\"album_image_url\"][0]"
   ]
  }
 ],
 "metadata": {
  "kernelspec": {
   "display_name": "Python 3.9.12 ('base')",
   "language": "python",
   "name": "python3"
  },
  "language_info": {
   "codemirror_mode": {
    "name": "ipython",
    "version": 3
   },
   "file_extension": ".py",
   "mimetype": "text/x-python",
   "name": "python",
   "nbconvert_exporter": "python",
   "pygments_lexer": "ipython3",
   "version": "3.9.12"
  },
  "vscode": {
   "interpreter": {
    "hash": "e054da906f755f1048e3d8b52f406ec9cbc9b8d32a28cf5e40dbd6c773cda24f"
   }
  }
 },
 "nbformat": 4,
 "nbformat_minor": 5
}
